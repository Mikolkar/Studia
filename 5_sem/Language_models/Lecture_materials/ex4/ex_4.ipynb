{
 "cells": [
  {
   "cell_type": "markdown",
   "metadata": {},
   "source": [
    "<!-- @format -->\n",
    "\n",
    "Importing stuff\n"
   ]
  },
  {
   "cell_type": "code",
   "execution_count": null,
   "metadata": {},
   "outputs": [
    {
     "data": {
      "text/plain": [
       "device(type='cuda')"
      ]
     },
     "execution_count": 3,
     "metadata": {},
     "output_type": "execute_result"
    }
   ],
   "source": [
    "import torch\n",
    "from transformers import AutoTokenizer, AutoModelForCausalLM\n",
    "import random\n",
    "from torch.nn import functional as F\n",
    "\n",
    "\n",
    "model_name = \"flax-community/papuGaPT2\"\n",
    "\n",
    "device = torch.device(\"cuda\" if torch.cuda.is_available() else \"cpu\")\n",
    "\n",
    "model = AutoModelForCausalLM.from_pretrained(model_name).to(device)\n",
    "tokenizer = AutoTokenizer.from_pretrained(model_name)\n",
    "\n",
    "device"
   ]
  },
  {
   "cell_type": "markdown",
   "metadata": {},
   "source": [
    "<!-- @format -->\n",
    "\n",
    "### Defining Trie, best_k, sample_from_pairs\n"
   ]
  },
  {
   "cell_type": "code",
   "execution_count": 16,
   "metadata": {},
   "outputs": [],
   "source": [
    "class Trie:\n",
    "    is_end: bool\n",
    "    children: dict[str, \"Trie\"]\n",
    "\n",
    "    def __init__(self):\n",
    "        self.is_end = False\n",
    "        self.children = {}\n",
    "\n",
    "    def search(self, s):\n",
    "        node = self\n",
    "        for ch in s:\n",
    "            if ch not in node.children:\n",
    "                return None\n",
    "            node = node.children[ch]\n",
    "        return node if node.is_end else None\n",
    "\n",
    "    def serch_by_letter(self, s, letter):\n",
    "        node = self.search(letter)\n",
    "        if node is None:\n",
    "            return None\n",
    "        return self.search(s)\n",
    "\n",
    "    def insert(self, s):\n",
    "        node = self.search(s)\n",
    "        if node is None:\n",
    "            node = self\n",
    "            for ch in s:\n",
    "                if ch not in node.children:\n",
    "                    node.children[ch] = Trie()\n",
    "                node = node.children[ch]\n",
    "            node.is_end = True\n",
    "\n",
    "    def print_all_nodes(self, prefix=\"\"):\n",
    "        if self.is_end:\n",
    "            print(prefix)\n",
    "        for head, child in self.children.items():\n",
    "            child.print_all_nodes(prefix + head)\n",
    "\n",
    "\n",
    "trie = Trie()\n",
    "for token in tokenizer.get_vocab().keys():\n",
    "    trie.insert(token)"
   ]
  },
  {
   "cell_type": "code",
   "execution_count": 17,
   "metadata": {},
   "outputs": [],
   "source": [
    "def best_k(prefix, K=10):\n",
    "    input_ids = tokenizer(prefix, return_tensors=\"pt\")[\"input_ids\"].to(device)\n",
    "    output = model(input_ids=input_ids)\n",
    "    next_token_logits = output.logits[0, -1, :]\n",
    "    probs = F.softmax(next_token_logits, dim=-1)\n",
    "    d = {}\n",
    "    for i in range(probs.shape[0]):\n",
    "        token = tokenizer.decode(i)\n",
    "        d[token] = probs[i]\n",
    "        if not trie.search(token):\n",
    "            trie.insert(token)\n",
    "    return [\n",
    "        (t, d[t])\n",
    "        for t in sorted(d, key=d.get, reverse=True)[:K]\n",
    "        if trie.search_by_letter(t, prefix[0])\n",
    "    ]\n",
    "\n",
    "\n",
    "def sample_from_pairs(pairs):\n",
    "    tokens = [p[0] for p in pairs]\n",
    "    weights = [p[1] for p in pairs]\n",
    "    return random.choices(tokens, weights=weights, k=1)[0]"
   ]
  },
  {
   "cell_type": "markdown",
   "metadata": {},
   "source": [
    "<!-- @format -->\n",
    "\n",
    "### Test\n"
   ]
  },
  {
   "cell_type": "code",
   "execution_count": null,
   "metadata": {},
   "outputs": [],
   "source": [
    "# trie = Trie()\n",
    "# trie.insert(\"h\")\n",
    "# trie.insert(\"hello\")\n",
    "\n",
    "\n",
    "\n",
    "# trie.insert(\"world\")\n",
    "# trie.insert(\"high\")\n",
    "# trie.insert(\"hi\")\n",
    "# # x = trie.search(\"hi\")\n",
    "# trie.print_all_nodes()\n",
    "# print(trie.gets_all_words_from_branch(\"h\"))"
   ]
  },
  {
   "cell_type": "markdown",
   "metadata": {},
   "source": [
    "<!-- @format -->\n",
    "\n",
    "```python=\n",
    "Inicjalizuj drzewo trie\n",
    "Ustaw prefiks jako początek zdania\n",
    "\n",
    "Dla każdej iteracji (do maksymalnej długości zdania):\n",
    "    Uzyskaj najlepsze tokeny za pomocą funkcji best_k(zdanie, K)\n",
    "    Dla każdego tokena w najlepszych tokenach:\n",
    "        Dodaj token do drzewa trie\n",
    "\n",
    "    Filtrowanie tokenów w drzewie trie, aby zachować tylko te, które zaczynają się od tej samej litery co prefiks\n",
    "    Jeśli nie ma żadnych tokenów po filtrowaniu:\n",
    "        Przerwij pętlę\n",
    "\n",
    "    Losowo wybierz jeden token z filtrowanych tokenów za pomocą funkcji sample_from_pairs(filtrowane tokeny)\n",
    "    Dodaj wybrany token do zdania\n",
    "\n",
    "    Jeśli wybrany token jest znakiem interpunkcyjnym kończącym zdanie:\n",
    "        Przerwij pętlę\n",
    "\n",
    "Zwróć wygenerowane zdanie\n",
    "```\n"
   ]
  },
  {
   "cell_type": "code",
   "execution_count": 7,
   "metadata": {},
   "outputs": [
    {
     "data": {
      "text/plain": [
       "'Do dnia dzisiejszego'"
      ]
     },
     "execution_count": 7,
     "metadata": {},
     "output_type": "execute_result"
    }
   ],
   "source": [
    "def load_prefixes():\n",
    "    with open(\"prefiksy.txt\", \"r\", encoding=\"utf-8\") as read_file:\n",
    "        return [line.rstrip() for line in read_file]\n",
    "\n",
    "\n",
    "prefixes = load_prefixes()\n",
    "rand_prefix = random.choice(prefixes)\n",
    "rand_prefix"
   ]
  },
  {
   "cell_type": "code",
   "execution_count": 8,
   "metadata": {},
   "outputs": [
    {
     "name": "stdout",
     "output_type": "stream",
     "text": [
      "Do dnia dzisiejszego\n",
      "   [ nie] 0.0905\n",
      "   [,] 0.0494\n",
      "   [ w] 0.0402\n",
      "   [ na] 0.0221\n",
      "   [.] 0.0160\n",
      "   [ jest] 0.0133\n",
      "   [ (] 0.0129\n",
      "   [ udało] 0.0122\n",
      "   [ nikt]* 0.0088\n",
      "   [ mam] 0.0085\n",
      "\n",
      "Do dnia dzisiejszego nikt\n",
      "   [ nie]* 0.5821\n",
      "   [ z] 0.0801\n",
      "   [ już] 0.0524\n",
      "   [ się] 0.0433\n",
      "   [ w] 0.0226\n",
      "   [ mnie] 0.0146\n",
      "   [ jeszcze] 0.0140\n",
      "   [ chyba] 0.0118\n",
      "   [ o] 0.0100\n",
      "   [ nic] 0.0086\n",
      "\n",
      "Do dnia dzisiejszego nikt nie\n",
      "   [ wie] 0.0518\n",
      "   [ jest] 0.0392\n",
      "   [ ma]* 0.0346\n",
      "   [ został] 0.0280\n",
      "   [ może] 0.0206\n",
      "   [ odpowiedział] 0.0178\n",
      "   [ podjął] 0.0178\n",
      "   [ miał] 0.0170\n",
      "   [ był] 0.0155\n",
      "   [ potrafi] 0.0143\n",
      "\n",
      "Do dnia dzisiejszego nikt nie ma\n",
      "   [ wątpliwości] 0.3757\n",
      "   [ pewności] 0.0561\n",
      "   [ pojęcia] 0.0329\n",
      "   [ żadnych]* 0.0324\n",
      "   [ zastrzeżeń] 0.0221\n",
      "   [ już] 0.0207\n",
      "   [ w] 0.0157\n",
      "   [ nic] 0.0155\n",
      "   [ do] 0.0140\n",
      "   [ prawa] 0.0130\n",
      "\n"
     ]
    }
   ],
   "source": [
    "def sample_demo(N, txt):\n",
    "    for i in range(N):\n",
    "        d = best_k(txt)\n",
    "        print(txt)\n",
    "        next_token = sample_from_pairs(d)\n",
    "        for t, p in best_k(txt):\n",
    "            star = \"\"\n",
    "            if t == next_token:\n",
    "                star = \"*\"\n",
    "            print(f\"   [{t}]{star} {p:.4f}\")\n",
    "        txt += next_token\n",
    "        print()\n",
    "\n",
    "\n",
    "sample_demo(4, rand_prefix)"
   ]
  }
 ],
 "metadata": {
  "kernelspec": {
   "display_name": "Python 3",
   "language": "python",
   "name": "python3"
  },
  "language_info": {
   "codemirror_mode": {
    "name": "ipython",
    "version": 3
   },
   "file_extension": ".py",
   "mimetype": "text/x-python",
   "name": "python",
   "nbconvert_exporter": "python",
   "pygments_lexer": "ipython3",
   "version": "3.10.4"
  }
 },
 "nbformat": 4,
 "nbformat_minor": 2
}
