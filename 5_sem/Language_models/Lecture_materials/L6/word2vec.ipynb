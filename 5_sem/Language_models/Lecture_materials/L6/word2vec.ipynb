{
 "cells": [
  {
   "cell_type": "code",
   "execution_count": null,
   "id": "1f744313",
   "metadata": {},
   "outputs": [],
   "source": [
    "from gensim.models import Word2Vec\n",
    "\n",
    "model = Word2Vec.load('/home/prych/data/models/w2v_polish_lemmas.model')"
   ]
  },
  {
   "cell_type": "code",
   "execution_count": null,
   "id": "b6c43e61",
   "metadata": {},
   "outputs": [],
   "source": [
    "words = ['mężczyzna', 'kobieta', 'żywiec', 'drogi', 'okocim', 'bułeczka', 'pierog_pieróg', 'piernik', 'droga', 'droga_drogi', 'polska_polski', 'pies', 'trznadel', 'kapibara']\n",
    "#, 'pisk', 'nosorożec', 'lotniskowiec', 'długopis', 'pomidor', 'czekolada', 'paryż', 'warszawa']\n",
    "\n",
    "for w in words:\n",
    "    print (w)\n",
    "    for w0,v in model.wv.most_similar(positive=[w], topn=10):\n",
    "        print ('   ', v, w0)\n",
    "    print ()"
   ]
  },
  {
   "cell_type": "code",
   "execution_count": null,
   "id": "e30f865a",
   "metadata": {},
   "outputs": [],
   "source": [
    "def is_adjective(w):\n",
    "    return w[-1] in 'iy'\n",
    "\n",
    "adjs = ['kobieta', 'mężczyzna', 'szybki', 'wolny', 'ostry', 'ładny', 'brzydki', 'zielony', 'żółty', 'niebieski', 'słodki', 'gorzki']\n",
    "\n",
    "for w in adjs:\n",
    "    print (w)\n",
    "    for w0,v in model.wv.most_similar(positive=[w], topn=50):\n",
    "        if is_adjective(w0):\n",
    "            print ('   ', v, w0)\n",
    "    print ()"
   ]
  },
  {
   "cell_type": "code",
   "execution_count": null,
   "id": "416511bc",
   "metadata": {},
   "outputs": [],
   "source": [
    "import random\n",
    "\n",
    "def line(a, k):\n",
    "    res = []\n",
    "    for i in range(k):\n",
    "        res.append(a)\n",
    "        a += random.choice([1,1,1,2,2,3])\n",
    "    return [str(n) for n in res]\n",
    "\n",
    "N = 5000\n",
    "corpus = [line(random.randint(0,400), random.randint(10,40)) for _ in range(N)]"
   ]
  },
  {
   "cell_type": "code",
   "execution_count": null,
   "id": "8bff26d3",
   "metadata": {},
   "outputs": [],
   "source": [
    "print (line(10, 5))\n",
    "\n",
    "for line in corpus[:4]:\n",
    "    print ('#',*line)"
   ]
  },
  {
   "cell_type": "code",
   "execution_count": null,
   "id": "50286f6e",
   "metadata": {},
   "outputs": [],
   "source": [
    "model_numbers = Word2Vec(sentences=corpus, vector_size=20, window=2, min_count=10, workers=4)"
   ]
  },
  {
   "cell_type": "code",
   "execution_count": null,
   "id": "7078f73a",
   "metadata": {},
   "outputs": [],
   "source": [
    "%matplotlib inline\n",
    "\n",
    "import matplotlib\n",
    "import numpy as np\n",
    "import matplotlib.pyplot as plt"
   ]
  },
  {
   "cell_type": "code",
   "execution_count": null,
   "id": "f0ec9960",
   "metadata": {},
   "outputs": [],
   "source": [
    "keys = model_numbers.wv.index_to_key\n",
    "keys = sorted(keys, key=int)[:50]\n",
    "m = int(max(keys, key=int))\n",
    "\n",
    "xs = [model_numbers.wv[k][0] for k in keys]\n",
    "ys = [model_numbers.wv[k][1] for k in keys]\n",
    "cs = [(1.0, int(k)/m, 0.5*int(k)/m) for k in keys]\n",
    "\n",
    "plt.scatter(xs,ys, c=cs, alpha=1, s=100)"
   ]
  },
  {
   "cell_type": "code",
   "execution_count": null,
   "id": "a953be12",
   "metadata": {},
   "outputs": [],
   "source": []
  },
  {
   "cell_type": "code",
   "execution_count": null,
   "id": "27e780bc",
   "metadata": {},
   "outputs": [],
   "source": []
  }
 ],
 "metadata": {},
 "nbformat": 4,
 "nbformat_minor": 5
}
