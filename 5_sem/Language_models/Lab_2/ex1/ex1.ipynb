{
 "cells": [
  {
   "cell_type": "code",
   "execution_count": 1,
   "metadata": {},
   "outputs": [
    {
     "name": "stdout",
     "output_type": "stream",
     "text": [
      "WARNING:tensorflow:From c:\\Users\\mikol\\AppData\\Local\\Programs\\Python\\Python310\\lib\\site-packages\\tf_keras\\src\\losses.py:2976: The name tf.losses.sparse_softmax_cross_entropy is deprecated. Please use tf.compat.v1.losses.sparse_softmax_cross_entropy instead.\n",
      "\n"
     ]
    },
    {
     "name": "stderr",
     "output_type": "stream",
     "text": [
      "Hardware accelerator e.g. GPU is available in the environment, but no `device` argument is passed to the `Pipeline` object. Model will be on CPU.\n"
     ]
    }
   ],
   "source": [
    "import random\n",
    "from transformers import pipeline\n",
    "\n",
    "# Inicjalizacja modelu (np. GPT-2)\n",
    "model = pipeline(\"text-generation\", model=\"gpt2\", pad_token_id=50256)\n",
    "\n",
    "random.seed(42)"
   ]
  },
  {
   "cell_type": "code",
   "execution_count": 4,
   "metadata": {},
   "outputs": [
    {
     "name": "stdout",
     "output_type": "stream",
     "text": [
      "[('1 + 1 =', 2), ('2 + 2 =', 4), ('3 + 3 =', 6), ('4 + 4 =', 8), ('5 + 5 =', 10), ('6 + 6 =', 12), ('7 + 7 =', 14), ('8 + 8 =', 16), ('9 + 9 =', 18), ('10 + 10 =', 20), ('11 + 11 =', 22), ('12 + 12 =', 24), ('13 + 13 =', 26), ('14 + 14 =', 28), ('15 + 15 =', 30), ('16 + 16 =', 32), ('17 + 17 =', 34), ('18 + 18 =', 36), ('19 + 19 =', 38), ('20 + 20 =', 40), ('21 + 21 =', 42), ('22 + 22 =', 44), ('3 + 3 =', 6), ('3 + 4 =', 7), ('3 + 3 =', 6), ('3 + 7 =', 10), ('7 + 10 =', 17), ('3 + 4 =', 7), ('6 + 10 =', 16), ('1 + 4 =', 5), ('10 + 1 =', 11)]\n"
     ]
    }
   ],
   "source": [
    "# Definicja funkcji do testowania wyrażeń arytmetycznych\n",
    "def test_model(prompt, true_answer):\n",
    "    # Generowanie odpowiedzi modelu\n",
    "    output = model(prompt, max_new_tokens=2, num_return_sequences=1)\n",
    "    response = output[0][\"generated_text\"].split(\"=\")[-1].strip()\n",
    "    response = \"\".join([char for char in response if char.isnumeric()])\n",
    "    # Sprawdzenie poprawności\n",
    "    # print(f\"response = {response}, true_value = {true_answer}\")\n",
    "\n",
    "    try:\n",
    "        model_answer = int(response)\n",
    "        return model_answer == true_answer\n",
    "    except ValueError as error:\n",
    "        print(str(error))\n",
    "        return False  # Jeśli model nie zwróci liczby\n",
    "\n",
    "\n",
    "def read_pairs_from_file(filename):\n",
    "    pairs = []\n",
    "    with open(filename, \"r\") as file:\n",
    "        for line in file:\n",
    "            # Rozdzielenie linii na wyrażenie i wynik\n",
    "            expression, result = line.strip().split(\"=\")\n",
    "            # Usunięcie ewentualnych spacji i konwersja wyniku na liczbę całkowitą\n",
    "            expression = expression.strip() + \" =\"\n",
    "            result = int(result.strip())\n",
    "            # Dodanie krotki do listy\n",
    "            pairs.append((expression, result))\n",
    "    return pairs\n",
    "\n",
    "\n",
    "print(read_pairs_from_file(\"data/addition_lines.txt\"))"
   ]
  },
  {
   "cell_type": "code",
   "execution_count": 14,
   "metadata": {},
   "outputs": [
    {
     "name": "stdout",
     "output_type": "stream",
     "text": [
      "Model Accuracy for addition: 5.0 %\n",
      "Model Accuracy for substraction: 6.0 %\n",
      "Model Accuracy for multiplication: 0.0 %\n",
      "Model Accuracy for division: 17.0 %\n"
     ]
    }
   ],
   "source": [
    "# Testowanie modeli na różnych wyrażeniach\n",
    "test_data_paths = [\n",
    "    \"data/addition_lines.txt\",\n",
    "    \"data/substraction_lines.txt\",\n",
    "    \"data/multiplication_lines.txt\",\n",
    "    \"data/division_lines.txt\",\n",
    "]\n",
    "\n",
    "positives = {\"addition\": [], \"substraction\": [], \"multiplication\": [], \"division\": []}\n",
    "\n",
    "for path in test_data_paths:\n",
    "    operation = path.replace(\"data/\", \"\").replace(\"_lines.txt\", \"\")\n",
    "\n",
    "    data = read_pairs_from_file(path)\n",
    "    random.shuffle(data)\n",
    "    data = data[:50]\n",
    "    split_index = int(len(data) * 0.4)\n",
    "    few_shot_learning_data = data[:split_index]\n",
    "    # print(few_shot_learning_data)\n",
    "    examples = data[split_index:]\n",
    "    # print(\"examples:\", examples)\n",
    "    few_shot_prompt = \"\"\n",
    "\n",
    "    for ecuation, result in few_shot_learning_data:\n",
    "        few_shot_prompt += f\"{ecuation}{result}\\n\"\n",
    "\n",
    "    results = []\n",
    "\n",
    "    for expr, answer in examples:  # show for [:10]\n",
    "        prompt = few_shot_prompt + expr\n",
    "        # print(prompt)\n",
    "        result = test_model(prompt, answer)\n",
    "        results.append(result)\n",
    "        if result:\n",
    "            positives[operation].append(expr)\n",
    "\n",
    "    # Analiza wyników\n",
    "    accuracy = sum(results) / len(results)\n",
    "    print(f\"Model Accuracy for {operation}:\", round(accuracy, 2) * 100, \"%\")"
   ]
  },
  {
   "cell_type": "code",
   "execution_count": 15,
   "metadata": {},
   "outputs": [
    {
     "name": "stdout",
     "output_type": "stream",
     "text": [
      "['2 + 2 =']\n",
      "['60 - 6 =']\n",
      "[]\n",
      "['120 / 30 =', '40 / 8 =', '96 / 24 =']\n"
     ]
    }
   ],
   "source": [
    "print(positives[\"addition\"])\n",
    "print(positives[\"substraction\"])\n",
    "print(positives[\"multiplication\"])\n",
    "print(positives[\"division\"])"
   ]
  },
  {
   "cell_type": "markdown",
   "metadata": {},
   "source": [
    "<!-- @format -->\n",
    "\n",
    "# Wnioski\n",
    "\n",
    "1. Dzielenie (17%): Model radzi sobie tutaj najlepiej spośród wszystkich operacji. Być może wynika to z tego, że dzielenie często zwraca liczby całkowite dla prostych wartości (jak 4 / 2 = 2). Operacje dzielenia, które generują pełne liczby, mogą być bardziej przewidywalne, a model może \"rozpoznawać\" wzorce liczbowe, które są zgodne z tymi wartościami.\n",
    "2. Odejmowanie (5%) i Dodawanie (6): Są one podobne pod względem skuteczności, ale wyraźnie niższe niż dzielenie. Być może model ma większą trudność z tymi operacjami, ponieważ różnice liczbowe są bardziej zróżnicowane i mogą być trudniejsze do „zgadnięcia” na podstawie kilku przykładów.\n",
    "3. Mnożenie (0%): Wynik jest najniższy. To może być efektem złożoności operacji – mnożenie może generować większe liczby, a zakres wyników jest bardziej rozproszony, co utrudnia modelowi trafne odpowiedzi w kontekście few-shot learningu.\n"
   ]
  }
 ],
 "metadata": {
  "kernelspec": {
   "display_name": "Python 3",
   "language": "python",
   "name": "python3"
  },
  "language_info": {
   "codemirror_mode": {
    "name": "ipython",
    "version": 3
   },
   "file_extension": ".py",
   "mimetype": "text/x-python",
   "name": "python",
   "nbconvert_exporter": "python",
   "pygments_lexer": "ipython3",
   "version": "3.10.4"
  }
 },
 "nbformat": 4,
 "nbformat_minor": 2
}
