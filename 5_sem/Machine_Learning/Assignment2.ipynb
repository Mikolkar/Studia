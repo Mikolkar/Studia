{
 "cells": [
  {
   "cell_type": "code",
   "execution_count": 1,
   "metadata": {},
   "outputs": [],
   "source": [
    "\n",
    "# Needed imports\n",
    "import numpy as np\n",
    "import matplotlib.pyplot as plt\n",
    "from sklearn.datasets import fetch_openml\n",
    "from sklearn.model_selection import train_test_split\n",
    "from sklearn.model_selection import LeaveOneOut\n",
    "from sklearn.neighbors import KNeighborsClassifier"
   ]
  },
  {
   "cell_type": "code",
   "execution_count": null,
   "metadata": {},
   "outputs": [],
   "source": [
    "\n",
    "# Preprocessing data and preparations for the algorithm\n",
    "mnist = fetch_openml('mnist_784')\n",
    "x, y = mnist.data / 255, mnist.target\n",
    "x_train, x_test, y_train, y_test = train_test_split(x, y, test_size=0.9, random_state=42)\n",
    "x_train = x_train.to_numpy()\n",
    "y_train = y_train.to_numpy()\n",
    "accuracies = []\n",
    "cv = LeaveOneOut()"
   ]
  },
  {
   "cell_type": "code",
   "execution_count": 4,
   "metadata": {},
   "outputs": [],
   "source": [
    "\n",
    "# Algorithm\n",
    "for k in range(1, 11):\n",
    "  knn = KNeighborsClassifier(n_neighbors=k)\n",
    "  predictions = 0\n",
    "  for i, j in cv.split(x_train):\n",
    "    x_train_cv, x_test_cv = x_train[i], x_train[j]\n",
    "    y_train_cv, y_test_cv = y_train[i], y_train[j]\n",
    "    knn.fit(x_train_cv, y_train_cv)\n",
    "    pred = knn.predict(x_test_cv)\n",
    "    if pred == y_test_cv:\n",
    "      predictions += 1\n",
    "  acc = predictions / len(x_train)\n",
    "  accuracies.append(acc)"
   ]
  }
 ],
 "metadata": {
  "kernelspec": {
   "display_name": "Python 3",
   "language": "python",
   "name": "python3"
  },
  "language_info": {
   "codemirror_mode": {
    "name": "ipython",
    "version": 3
   },
   "file_extension": ".py",
   "mimetype": "text/x-python",
   "name": "python",
   "nbconvert_exporter": "python",
   "pygments_lexer": "ipython3",
   "version": "3.10.4"
  }
 },
 "nbformat": 4,
 "nbformat_minor": 2
}
